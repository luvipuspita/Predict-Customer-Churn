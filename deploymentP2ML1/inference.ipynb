{
 "cells": [
  {
   "cell_type": "code",
   "execution_count": 1,
   "metadata": {},
   "outputs": [],
   "source": [
    "new_data = [[0.0,\n",
    "  0.2361111111111111,\n",
    "  0.26245019920318724,\n",
    "  0.07845891672807664,\n",
    "  0.0,\n",
    "  1.0,\n",
    "  1.0,\n",
    "  0.0,\n",
    "  0.0,\n",
    "  1.0,\n",
    "  0.0,\n",
    "  1.0,\n",
    "  1.0,\n",
    "  0.0,\n",
    "  0.0,\n",
    "  1.0,\n",
    "  0.0,\n",
    "  0.0,\n",
    "  1.0,\n",
    "  0.0,\n",
    "  0.0,\n",
    "  1.0,\n",
    "  0.0,\n",
    "  0.0,\n",
    "  1.0,\n",
    "  0.0,\n",
    "  0.0,\n",
    "  1.0,\n",
    "  0.0,\n",
    "  0.0,\n",
    "  1.0,\n",
    "  0.0,\n",
    "  0.0,\n",
    "  1.0,\n",
    "  0.0,\n",
    "  0.0,\n",
    "  0.0,\n",
    "  1.0,\n",
    "  0.0,\n",
    "  1.0,\n",
    "  0.0,\n",
    "  0.0,\n",
    "  0.0,\n",
    "  0.0,\n",
    "  1.0],\n",
    " [0.0,\n",
    "  0.041666666666666664,\n",
    "  0.2709163346613546,\n",
    "  0.016315862196020634,\n",
    "  0.0,\n",
    "  1.0,\n",
    "  1.0,\n",
    "  0.0,\n",
    "  1.0,\n",
    "  0.0,\n",
    "  0.0,\n",
    "  1.0,\n",
    "  1.0,\n",
    "  0.0,\n",
    "  0.0,\n",
    "  1.0,\n",
    "  0.0,\n",
    "  0.0,\n",
    "  1.0,\n",
    "  0.0,\n",
    "  0.0,\n",
    "  1.0,\n",
    "  0.0,\n",
    "  0.0,\n",
    "  1.0,\n",
    "  0.0,\n",
    "  0.0,\n",
    "  1.0,\n",
    "  0.0,\n",
    "  0.0,\n",
    "  1.0,\n",
    "  0.0,\n",
    "  0.0,\n",
    "  1.0,\n",
    "  0.0,\n",
    "  0.0,\n",
    "  1.0,\n",
    "  0.0,\n",
    "  0.0,\n",
    "  1.0,\n",
    "  0.0,\n",
    "  0.0,\n",
    "  0.0,\n",
    "  0.0,\n",
    "  1.0]]"
   ]
  },
  {
   "cell_type": "code",
   "execution_count": 18,
   "metadata": {},
   "outputs": [],
   "source": [
    "import json\n",
    "\n",
    "input_data_json = json.dumps({\n",
    "    \"signature_name\": \"serving_default\",\n",
    "    \"instances\": new_data\n",
    "})"
   ]
  },
  {
   "cell_type": "code",
   "execution_count": 37,
   "metadata": {},
   "outputs": [
    {
     "data": {
      "text/plain": [
       "{'error': 'Servable not found for request: Latest(churn)'}"
      ]
     },
     "execution_count": 37,
     "metadata": {},
     "output_type": "execute_result"
    }
   ],
   "source": [
    "import requests\n",
    "\n",
    "URL = \"https://tfs-cc-app.herokuapp.com/v1/models/churn:predict\"\n",
    "r = requests.post(URL, data=input_data_json)\n",
    "result = r.json()\n",
    "result"
   ]
  },
  {
   "cell_type": "code",
   "execution_count": 27,
   "metadata": {},
   "outputs": [
    {
     "data": {
      "text/plain": [
       "[0.0284976959]"
      ]
     },
     "execution_count": 27,
     "metadata": {},
     "output_type": "execute_result"
    }
   ],
   "source": [
    "result['predictions'][0]"
   ]
  },
  {
   "cell_type": "code",
   "execution_count": 29,
   "metadata": {},
   "outputs": [
    {
     "name": "stdout",
     "output_type": "stream",
     "text": [
      "No\n",
      "No\n"
     ]
    }
   ],
   "source": [
    "for res in result['predictions']:\n",
    "    if res[0] > 0.5:\n",
    "        print(\"Yes\")\n",
    "    else:\n",
    "        print(\"No\")"
   ]
  },
  {
   "cell_type": "code",
   "execution_count": 6,
   "metadata": {},
   "outputs": [],
   "source": [
    "# response"
   ]
  },
  {
   "cell_type": "markdown",
   "metadata": {},
   "source": [
    "Image Features"
   ]
  },
  {
   "cell_type": "code",
   "execution_count": 15,
   "metadata": {},
   "outputs": [],
   "source": [
    "# import requests\n",
    "# import cv2\n",
    "# import json\n",
    "# import numpy as np"
   ]
  },
  {
   "cell_type": "code",
   "execution_count": 14,
   "metadata": {},
   "outputs": [],
   "source": [
    "# image = cv2.imread(\"image.jpg\")\n",
    "# image = cv2.cvtColor(image, cv2.COLOR_BGR2RGB)"
   ]
  },
  {
   "cell_type": "code",
   "execution_count": 13,
   "metadata": {},
   "outputs": [],
   "source": [
    "# image = cv2.resize(image, (224, 224))\n",
    "# image = np.expand_dims(image, axis=0)"
   ]
  },
  {
   "cell_type": "code",
   "execution_count": 12,
   "metadata": {},
   "outputs": [],
   "source": [
    "# input_data_json = json.dumps({\n",
    "#     \"signature_name\": \"serving_default\",\n",
    "#     \"instances\": image.tolist(),\n",
    "# })"
   ]
  },
  {
   "cell_type": "code",
   "execution_count": 11,
   "metadata": {},
   "outputs": [],
   "source": [
    "# URL = 'http://localhost:8501/v1/models/motogp:predict'\n",
    "# response = requests.post(URL, data=input_data_json)\n",
    "# response.raise_for_status() # raise an exception in case of error\n",
    "# response = response.json()"
   ]
  },
  {
   "cell_type": "code",
   "execution_count": 16,
   "metadata": {},
   "outputs": [],
   "source": [
    "# np.argmax(response['predictions'][0])"
   ]
  }
 ],
 "metadata": {
  "interpreter": {
   "hash": "a219e74cff3d6f0d0b733240275cedab0790f96e0e10ae4045ee1ae8b83c2b4f"
  },
  "kernelspec": {
   "display_name": "Python 3.9.7 ('base')",
   "language": "python",
   "name": "python3"
  },
  "language_info": {
   "codemirror_mode": {
    "name": "ipython",
    "version": 3
   },
   "file_extension": ".py",
   "mimetype": "text/x-python",
   "name": "python",
   "nbconvert_exporter": "python",
   "pygments_lexer": "ipython3",
   "version": "3.9.7"
  },
  "orig_nbformat": 4
 },
 "nbformat": 4,
 "nbformat_minor": 2
}
